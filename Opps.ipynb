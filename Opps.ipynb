{
  "nbformat": 4,
  "nbformat_minor": 0,
  "metadata": {
    "colab": {
      "provenance": []
    },
    "kernelspec": {
      "name": "python3",
      "display_name": "Python 3"
    },
    "language_info": {
      "name": "python"
    }
  },
  "cells": [
    {
      "cell_type": "markdown",
      "source": [
        "#Opps"
      ],
      "metadata": {
        "id": "W_qCqdeZ_moA"
      }
    },
    {
      "cell_type": "markdown",
      "source": [
        "1. What is Object-Oriented Programming (OOP)?\n",
        "- Object-Oriented Programming (OOP) is a programming method that   organizes software design around objects, which contain data (attributes) and functions (methods) that operate on that data. It focuses on real-world modeling, making programs easier to understand, reuse, and manage.\n",
        "\n",
        "2. What is a class in OOP?\n",
        "- A class in Object-Oriented Programming (OOP) is a blueprint or template used to create objects. It defines the properties (data/variables) and behaviors (functions/methods) that the objects created from it will have. In simple terms, a class is like a design or plan, and objects are the actual products made using that plan. By using classes, programmers can organize code in a structured and reusable way.\n",
        "\n",
        "3. What is an object in OOP?\n",
        "- An object in Object-Oriented Programming (OOP) is an instance of a class that represents a real-world entity. It is a combination of data (properties) and behaviors (methods) defined by its class. In simple terms, a class is like a blueprint, and an object is the actual product created from that blueprint. For example, if a class is “Car,” then a specific red Honda or blue BMW is an object. Each object can have different values for its properties but will follow the structure defined by its class. Objects allow programmers to model real-world things in a more natural and organized way.\n",
        "\n",
        "4. What is the difference between abstraction and encapsulation?\n",
        "- Abstraction and encapsulation are both important concepts in OOP, but they serve different purposes. Abstraction focuses on showing only essential features of an object and hiding unnecessary details from the user — like using a TV remote without knowing how the circuits work inside. On the other hand, encapsulation is about wrapping data and methods together into a single unit (class) and restricting direct access to the data to protect it — like keeping a medicine sealed in a capsule. In simple words, abstraction is about hiding complexity to make things easier to use, while encapsulation is about protecting data by controlling access to it.\n",
        "\n",
        "5. What are dunder methods in Python?\n",
        "- In Python, dunder methods (short for “double underscore” methods) are special built-in methods whose names begin and end with two underscores, like __init__, __str__, or __add__. They are not meant to be called directly by you, but are automatically triggered by Python to enable certain behaviors. For example, __init__ runs when an object is created, __str__ defines what gets shown when you print the object, and __add__ allows the + operator to work between objects. These methods let you customize how your class interacts with built-in operations such as printing, comparing, adding, indexing, or iteration — making your custom classes behave more like real Python data types.\n",
        "\n",
        "6. Explain the concept of inheritance in OOP?\n",
        " - Inheritance in Object-Oriented Programming (OOP) is a concept where one class (called the child or subclass) can acquire the properties and behaviors (attributes and methods) of another class (called the parent or superclass). It allows code reuse, meaning you don’t have to write the same code again for similar classes — the child class automatically inherits the parent’s features and can also add its own new features or modify (override) the existing ones. This promotes cleaner code, reduces duplication, and creates a logical relationship between classes — for example, a Dog class can inherit from an Animal class, gaining general animal features like eat() or sleep(), while also defining its own specific behavior like bark().\n",
        "\n",
        " 7. What is polymorphism in OOP?\n",
        " - Polymorphism in OOP means “one name, many forms.” It allows different classes to use the same method name but perform different actions based on the object calling it. For example, a speak() method in a Dog class may bark, while the same speak() method in a Cat class may meow — yet both are called the same way. This makes code more flexible and easier to manage, especially when working with multiple related objects.\n",
        "\n",
        " 8. How is encapsulation achieved in Python?\n",
        " -  Encapsulation in Python is achieved by restricting direct access to an object’s data and allowing it to be modified only through controlled methods. This is done using access modifiers like private (__variable) and protected (_variable) variables inside a class. By keeping data hidden and interacting with it through methods like getters and setters, encapsulation ensures better security, prevents accidental changes, and maintains proper control over how data is accessed and modified.\n",
        "\n",
        " 9. What is a constructor in Python?\n",
        " -  A constructor in Python is a special method called __init__() that automatically runs when an object of a class is created. Its main purpose is to initialize the object’s attributes with default or user-given values. It helps set up the object properly at the time of creation, ensuring everything is ready to use. For example, when you create a Student object, the constructor can assign the name, age, or roll number immediately.\n",
        "\n",
        " 10. What are class and static methods in Python?\n",
        " -  In Python, class methods are methods that belong to the class rather than an individual object, and they use @classmethod with cls as the first parameter to modify class-level data. Static methods, marked with @staticmethod, do not take self or cls and act like normal functions inside a class — they don’t depend on either instance or class data. Class methods are useful for working with class-level changes, while static methods are used for utility or helper functions related to the class.\n",
        "\n",
        " 11. What is method overloading in Python?\n",
        " -  Method overloading in Python refers to defining multiple methods with the same name but different parameters. However, Python doesn’t support traditional method overloading like other languages — instead, it handles it using default arguments or *args and **args. This allows a single method to behave differently based on the number or type of arguments passed, making it flexible without needing multiple method definitions with the same name.\n",
        "\n",
        " 12. What is method overriding in OOP?\n",
        " -  Method overriding in OOP occurs when a subclass provides its own implementation of a method that already exists in its parent class. The method name and parameters remain the same, but the behavior is changed to suit the subclass’s needs. This allows the child class to customize or completely replace the functionality of the parent class’s method, making polymorphism possible — for example, a speak() method in an Animal class may be overridden in Dog and Cat classes to produce different sounds.\n",
        "\n",
        " 13. What is a property decorator in Python?\n",
        " -  A property decorator in Python, written as @property, is used to define a method in a class that can be accessed like an attribute instead of calling it like a function. It allows you to control how a value is retrieved, set, or deleted — acting like a smart attribute. This helps in implementing encapsulation neatly, where you can create getters and setters without changing the way the attribute is accessed. For example, accessing student.name can actually trigger an internal method using @property.\n",
        "\n",
        " 14. Why is polymorphism important in OOP?\n",
        " -  Polymorphism is important in OOP because it allows the same function or method to work in different ways depending on the object using it. This makes programs more flexible, reusable, and easier to maintain. For example, a draw() method can be used for different shapes like circle, rectangle, or triangle — each shape will execute its own version of draw(). This reduces code duplication and enables writing generic, cleaner code that can work with multiple object types.\n",
        "\n",
        " 15. What is an abstract class in Python?\n",
        " -  An abstract class in Python is a class that cannot be instantiated directly and is meant to serve as a blueprint for other classes. It is created using the abc module and contains one or more abstract methods — methods that are declared but not implemented. These methods must be overridden in the subclass. Abstract classes are useful when you want to enforce a common structure or behavior in all subclasses while allowing each subclass to provide its own specific implementation.\n",
        "\n",
        " 16.  What are the advantages of OOP?\n",
        " -  Object-Oriented Programming (OOP) has many advantages like reusability of code through inheritance, better organization of programs using classes and objects, and improved data security with encapsulation. It also offers flexibility through polymorphism and makes programs easier to maintain and scale. Overall, OOP helps write cleaner, efficient, and more manageable code for complex applications.\n",
        "\n",
        " 17.  What is the difference between a class variable and an instance variable?\n",
        " -  A class variable is shared by all objects of the class and is defined inside the class but outside any method, meaning any change to it affects all instances. An instance variable, on the other hand, is unique to each object and is usually defined inside the constructor (__init__), so each object can have different values for it. In short, class variables are common for all objects, while instance variables are specific to each object.\n",
        "\n",
        "18. What is multiple inheritance in Python?\n",
        "-  Multiple inheritance in Python is a feature where a class can inherit from more than one parent class at the same time. This allows the child class to access and use the properties and methods of all its parent classes, making it more powerful and flexible. However, it must be managed carefully to avoid confusion or conflicts, especially when parents have methods with the same name.\n",
        "\n",
        "19. Explain the purpose of ‘’__str__’ and ‘__repr__’ ‘ methods in Python?\n",
        "-  In Python, the __str__ and __repr__ methods are special methods used to define how an object should be represented as a string. The __str__ method is meant to return a user-friendly and readable string representation of an object, usually used when printing the object. On the other hand, __repr__ is intended to return a more detailed and unambiguous string representation, mainly for developers, and ideally should return a string that can be used to recreate the object. If __str__ is not defined, Python will use __repr__ as a fallback when printing the object.\n",
        "\n",
        "20. What is the significance of the ‘super()’ function in Python?\n",
        "-  The super() function in Python is used to call methods from the parent class inside a child class. It is especially useful in inheritance to access and extend the functionality of the parent class without rewriting code. For example, it helps run the parent class’s constructor (__init__) along with the child’s own initialization. Using super() makes code cleaner, more maintainable, and supports multiple inheritance properly.\n",
        "\n",
        "21. What is the significance of the __del__ method in Python?\n",
        "-  The __del__ method in Python is a special method called a destructor, which gets executed automatically when an object is about to be destroyed or deleted from memory. Its main purpose is to perform cleanup actions, such as closing files or releasing resources before the object is removed. However, it is rarely used because Python’s garbage collector usually handles memory management automatically.\n",
        "\n",
        "22. What is the difference between @staticmethod and @classmethod in Python?\n",
        "-  In Python, @staticmethod and @classmethod are both used to define methods inside a class that don’t require an instance (self). However, the difference is that @classmethod takes cls as its first parameter and works with the class itself, allowing it to modify or access class-level variables. In contrast, @staticmethod doesn’t take self or cls and behaves like a normal function placed inside a class, used mainly for utility tasks related to the class but not dependent on class or instance data.\n",
        "\n",
        "23.  How does polymorphism work in Python with inheritance?\n",
        "-  Polymorphism in Python with inheritance allows a child class to provide its own version of a method that already exists in the parent class. When the method is called using an object, Python automatically uses the version defined in the child class, even if it is referenced through a parent class variable. This enables different behaviors for the same method name, depending on the object type, making the code more flexible and dynamic.\n",
        "\n",
        "24. What is method chaining in Python OOP?\n",
        "-  Method chaining in Python OOP is a technique where multiple methods are called in a single line on the same object, one after another. This is done by ensuring each method returns the object (self) at the end, allowing the next method to be called immediately. It makes the code more compact and readable, commonly used in scenarios like configuring objects or performing multiple operations step by step.\n",
        "\n",
        "25.  What is the purpose of the __call__ method in Python?\n",
        "-  The __call__ method in Python allows an object to be called like a function. When this method is defined inside a class, calling the object with parentheses (like obj()) automatically triggers the __call__ method. It is useful when you want objects to behave like functions or perform specific actions when invoked directly, such as creating function-like objects or implementing custom behavior.\n",
        "\n",
        "\n",
        "\n",
        "\n",
        "\n",
        "\n",
        "\n",
        "\n",
        "\n",
        "\n",
        "\n",
        "\n",
        "\n",
        "\n",
        "\n",
        "\n",
        "\n"
      ],
      "metadata": {
        "id": "3Ijtz4KO_-aS"
      }
    },
    {
      "cell_type": "code",
      "source": [
        "#1. Create a parent class Animal with a method speak() that prints a generic message. Create a child class Dog that overrides the speak() method to print \"Bark!\".\n",
        "class Animal:\n",
        "    def speak(self):\n",
        "        print(\"Animal makes a sound\")\n",
        "\n",
        "class Dog(Animal):\n",
        "    def speak(self):  # Overriding the speak method\n",
        "        print(\"Bark!\")\n",
        "\n",
        "# Creating object of child class\n",
        "dog = Dog()\n",
        "dog.speak()   # Output: Bark!\n",
        "\n",
        "\n"
      ],
      "metadata": {
        "id": "5539oWLkK8QZ"
      },
      "execution_count": null,
      "outputs": []
    },
    {
      "cell_type": "code",
      "execution_count": null,
      "metadata": {
        "id": "z3WighTG_BYq"
      },
      "outputs": [],
      "source": [
        "#2. Write a program to create an abstract class Shape with a method area(). Derive classes Circle and Rectangle from it and implement the area() method in both.\n",
        "from abc import ABC, abstractmethod\n",
        "\n",
        "class Shape(ABC):\n",
        "    @abstractmethod\n",
        "    def area(self):\n",
        "        pass\n",
        "\n",
        "class Circle(Shape):\n",
        "    def __init__(self, radius):\n",
        "        self.radius = radius\n",
        "\n",
        "    def area(self):\n",
        "        return 3.14 * self.radius * self.radius\n",
        "\n",
        "class Rectangle(Shape):\n",
        "    def __init__(self, length, width):\n",
        "        self.length = length\n",
        "        self.width = width\n",
        "\n",
        "    def area(self):\n",
        "        return self.length * self.width\n",
        "\n",
        "\n",
        "circle = Circle(5)\n",
        "rectangle = Rectangle(4, 6)\n",
        "\n",
        "print(\"Area of Circle:\", circle.area())\n",
        "print(\"Area of Rectangle:\", rectangle.area())\n",
        "\n"
      ]
    },
    {
      "cell_type": "code",
      "source": [
        "#3. Implement a multi-level inheritance scenario where a class Vehicle has an attribute type. Derive a class Car and further derive a class ElectricCar that adds a battery attribute.\n",
        "class Vehicle:\n",
        "    def __init__(self, vehicle_type):\n",
        "        self.vehicle_type = vehicle_type\n",
        "\n",
        "    def show_type(self):\n",
        "        print(\"Vehicle Type:\", self.vehicle_type)\n",
        "\n",
        "class Car(Vehicle):\n",
        "    def __init__(self, vehicle_type, brand):\n",
        "        super().__init__(vehicle_type)\n",
        "        self.brand = brand\n",
        "\n",
        "    def show_brand(self):\n",
        "        print(\"Car Brand:\", self.brand)\n",
        "\n",
        "class ElectricCar(Car):\n",
        "    def __init__(self, vehicle_type, brand, battery_capacity):\n",
        "        super().__init__(vehicle_type, brand)\n",
        "        self.battery_capacity = battery_capacity\n",
        "\n",
        "    def show_details(self):\n",
        "        self.show_type()\n",
        "        self.show_brand()\n",
        "        print(\"Battery Capacity:\", self.battery_capacity, \"kWh\")\n",
        "\n",
        "# Creating object\n",
        "e_car = ElectricCar(\"Four Wheeler\", \"Tesla\", 75)\n",
        "e_car.show_details()\n"
      ],
      "metadata": {
        "id": "3cvgaBS-N1ud"
      },
      "execution_count": null,
      "outputs": []
    },
    {
      "cell_type": "code",
      "source": [
        "#4. Demonstrate polymorphism by creating a base class Bird with a method fly(). Create two derived classes Sparrow and Penguin that override the fly() method.\n",
        "\n",
        "class Bird:\n",
        "    def fly(self):\n",
        "        print(\"Bird is flying\")\n",
        "\n",
        "class Sparrow(Bird):\n",
        "    def fly(self):\n",
        "        print(\"Sparrow can fly high\")\n",
        "\n",
        "class Penguin(Bird):\n",
        "    def fly(self):\n",
        "        print(\"Penguin cannot fly, it swims\")\n",
        "\n",
        "# Creating objects\n",
        "bird1 = Sparrow()\n",
        "bird2 = Penguin()\n",
        "\n",
        "# Polymorphism in action\n",
        "for bird in (bird1, bird2):\n",
        "    bird.fly()\n"
      ],
      "metadata": {
        "id": "1rrdSl6JOVB2"
      },
      "execution_count": null,
      "outputs": []
    },
    {
      "cell_type": "code",
      "source": [
        "#5. Write a program to demonstrate encapsulation by creating a class BankAccount with private attributes balance and methods to deposit, withdraw, and check balance.\n",
        "class BankAccount:\n",
        "    def __init__(self, initial_balance=0):\n",
        "        self.__balance = initial_balance  # Private attribute\n",
        "\n",
        "    def deposit(self, amount):\n",
        "        if amount > 0:\n",
        "            self.__balance += amount\n",
        "            print(f\"Deposited: {amount}\")\n",
        "        else:\n",
        "            print(\"Invalid deposit amount\")\n",
        "\n",
        "    def withdraw(self, amount):\n",
        "        if 0 < amount <= self.__balance:\n",
        "            self.__balance -= amount\n",
        "            print(f\"Withdrawn: {amount}\")\n",
        "        else:\n",
        "            print(\"Insufficient balance or invalid amount\")\n",
        "\n",
        "    def check_balance(self):\n",
        "        print(f\"Current Balance: {self.__balance}\")\n",
        "\n",
        "# Creating object\n",
        "account = BankAccount(1000)\n",
        "account.deposit(500)\n",
        "account.withdraw(300)\n",
        "account.check_balance()\n"
      ],
      "metadata": {
        "id": "PXd_xonHOshu"
      },
      "execution_count": null,
      "outputs": []
    },
    {
      "cell_type": "code",
      "source": [
        "#6. Demonstrate runtime polymorphism using a method play() in a base class Instrument. Derive classes Guitar and Piano that implement their own version of play().\n",
        "class Instrument:\n",
        "    def play(self):\n",
        "        print(\"Instrument is playing sound\")\n",
        "\n",
        "class Guitar(Instrument):\n",
        "    def play(self):\n",
        "        print(\"Playing Guitar: Strumming sounds\")\n",
        "\n",
        "class Piano(Instrument):\n",
        "    def play(self):\n",
        "        print(\"Playing Piano: Melodious keys\")\n",
        "\n",
        "# Creating objects\n",
        "instrument1 = Guitar()\n",
        "instrument2 = Piano()\n",
        "\n",
        "# Runtime Polymorphism in action\n",
        "for instrument in (instrument1, instrument2):\n",
        "    instrument.play()\n"
      ],
      "metadata": {
        "id": "fIrdHZBZPBfW"
      },
      "execution_count": null,
      "outputs": []
    },
    {
      "cell_type": "code",
      "source": [
        "#7. Create a class MathOperations with a class method add_numbers() to add two numbers and a static method subtract_numbers() to subtract two numbers.\n",
        "class MathOperations:\n",
        "\n",
        "    @classmethod\n",
        "    def add_numbers(cls, a, b):\n",
        "        return a + b\n",
        "\n",
        "    @staticmethod\n",
        "    def subtract_numbers(a, b):\n",
        "        return a - b\n",
        "\n",
        "# Using class method\n",
        "result1 = MathOperations.add_numbers(10, 5)\n",
        "print(\"Addition:\", result1)\n",
        "\n",
        "# Using static method\n",
        "result2 = MathOperations.subtract_numbers(10, 5)\n",
        "print(\"Subtraction:\", result2)\n"
      ],
      "metadata": {
        "id": "sUv0DUrLPbZ8"
      },
      "execution_count": null,
      "outputs": []
    },
    {
      "cell_type": "code",
      "source": [
        "#8. Implement a class Person with a class method to count the total number of persons created.\n",
        "class Person:\n",
        "    count = 0  # Class variable\n",
        "\n",
        "    def __init__(self, name):\n",
        "        self.name = name\n",
        "        Person.count += 1  # Increment count when a new object is created\n",
        "\n",
        "    @classmethod\n",
        "    def total_persons(cls):\n",
        "        return cls.count\n",
        "\n",
        "# Creating objects\n",
        "p1 = Person(\"Alice\")\n",
        "p2 = Person(\"Bob\")\n",
        "p3 = Person(\"Charlie\")\n",
        "\n",
        "# Using class method\n",
        "print(\"Total persons created:\", Person.total_persons())\n"
      ],
      "metadata": {
        "id": "zr6lb1GaPvdr"
      },
      "execution_count": null,
      "outputs": []
    },
    {
      "cell_type": "code",
      "source": [
        "#9. Write a class Fraction with attributes numerator and denominator. Override the str method to display the fraction as \"numerator/denominator\".\n",
        "class Fraction:\n",
        "    def __init__(self, numerator, denominator):\n",
        "        self.numerator = numerator\n",
        "        self.denominator = denominator\n",
        "\n",
        "    def __str__(self):  # Overriding __str__ method\n",
        "        return f\"{self.numerator}/{self.denominator}\"\n",
        "\n",
        "# Creating object\n",
        "f = Fraction(3, 4)\n",
        "print(f)  # Output: 3/4\n"
      ],
      "metadata": {
        "id": "1cHXU_FhP8YU"
      },
      "execution_count": null,
      "outputs": []
    },
    {
      "cell_type": "code",
      "source": [
        "#10. Demonstrate operator overloading by creating a class Vector and overriding the add method to add two vectors\n",
        "class Vector:\n",
        "    def __init__(self, x, y):\n",
        "        self.x = x\n",
        "        self.y = y\n",
        "\n",
        "    def __add__(self, other):  # Overloading + operator\n",
        "        return Vector(self.x + other.x, self.y + other.y)\n",
        "\n",
        "    def __str__(self):  # To display the vector\n",
        "        return f\"Vector({self.x}, {self.y})\"\n",
        "\n",
        "# Creating objects\n",
        "v1 = Vector(2, 3)\n",
        "v2 = Vector(4, 1)\n",
        "\n",
        "# Adding two vectors\n",
        "v3 = v1 + v2\n",
        "print(v3)  # Output: Vector(6, 4)\n"
      ],
      "metadata": {
        "id": "kh1PH72_QOGQ"
      },
      "execution_count": null,
      "outputs": []
    },
    {
      "cell_type": "code",
      "source": [
        "#11. Create a class Person with attributes name and age. Add a method greet() that prints \"Hello, my name is {name} and I am {age} years old.\"\n",
        "class Person:\n",
        "    def __init__(self, name, age):\n",
        "        self.name = name\n",
        "        self.age = age\n",
        "\n",
        "    def greet(self):\n",
        "        print(f\"Hello, my name is {self.name} and I am {self.age} years old.\")\n",
        "\n",
        "# Creating object\n",
        "p1 = Person(\"John\", 25)\n",
        "p1.greet()\n"
      ],
      "metadata": {
        "id": "Jt3MAbMIQgpd"
      },
      "execution_count": null,
      "outputs": []
    },
    {
      "cell_type": "code",
      "source": [
        "#12. Implement a class Student with attributes name and grades. Create a method average_grade() to compute the average of the grades.\n",
        "class Student:\n",
        "    def __init__(self, name, grades):\n",
        "        self.name = name\n",
        "        self.grades = grades  # List of grades\n",
        "\n",
        "    def average_grade(self):\n",
        "        return sum(self.grades) / len(self.grades)\n",
        "\n",
        "# Creating object\n",
        "s1 = Student(\"Alice\", [85, 90, 88, 92])\n",
        "print(f\"Average grade of {s1.name}: {s1.average_grade()}\")\n"
      ],
      "metadata": {
        "id": "X1QUZF_ZQ2YP"
      },
      "execution_count": null,
      "outputs": []
    },
    {
      "cell_type": "code",
      "source": [
        "#13. Create a class Rectangle with methods set_dimensions() to set the dimensions and area() to calculate the area.\n",
        "class Rectangle:\n",
        "    def set_dimensions(self, length, width):\n",
        "        self.length = length\n",
        "        self.width = width\n",
        "\n",
        "    def area(self):\n",
        "        return self.length * self.width\n",
        "\n",
        "# Creating object\n",
        "rect = Rectangle()\n",
        "rect.set_dimensions(5, 3)\n",
        "print(\"Area of Rectangle:\", rect.area())\n"
      ],
      "metadata": {
        "id": "iyV7pIUlRH6x"
      },
      "execution_count": null,
      "outputs": []
    },
    {
      "cell_type": "code",
      "source": [
        "#14. Create a class Employee with a method calculate_salary() that computes the salary based on hours worked and hourly rate. Create a derived class Manager that adds a bonus to the salary.\n",
        "class Employee:\n",
        "    def calculate_salary(self, hours_worked, hourly_rate):\n",
        "        return hours_worked * hourly_rate\n",
        "\n",
        "class Manager(Employee):\n",
        "    def calculate_salary(self, hours_worked, hourly_rate, bonus):\n",
        "        base_salary = super().calculate_salary(hours_worked, hourly_rate)\n",
        "        return base_salary + bonus\n",
        "\n",
        "# Creating objects\n",
        "emp = Employee()\n",
        "mgr = Manager()\n",
        "\n",
        "print(\"Employee Salary:\", emp.calculate_salary(40, 500))\n",
        "print(\"Manager Salary:\", mgr.calculate_salary(40, 500, 5000))\n",
        "\n"
      ],
      "metadata": {
        "id": "8P7_yDZwRZNR"
      },
      "execution_count": null,
      "outputs": []
    },
    {
      "cell_type": "code",
      "source": [
        "#15. Create a class Product with attributes name, price, and quantity. Implement a method total_price() that calculates the total price of the product.\n",
        "class Product:\n",
        "    def __init__(self, name, price, quantity):\n",
        "        self.name = name\n",
        "        self.price = price\n",
        "        self.quantity = quantity\n",
        "\n",
        "    def total_price(self):\n",
        "        return self.price * self.quantity\n",
        "\n",
        "# Creating object\n",
        "p1 = Product(\"Laptop\", 50000, 2)\n",
        "print(f\"Total price of {p1.name}: {p1.total_price()}\")\n"
      ],
      "metadata": {
        "id": "ba8_jv1_RqJ4"
      },
      "execution_count": null,
      "outputs": []
    },
    {
      "cell_type": "code",
      "source": [
        "#16. Create a class Animal with an abstract method sound(). Create two derived classes Cow and Sheep that implement the sound() method.\n",
        "from abc import ABC, abstractmethod\n",
        "\n",
        "class Animal(ABC):\n",
        "    @abstractmethod\n",
        "    def sound(self):\n",
        "        pass\n",
        "\n",
        "class Cow(Animal):\n",
        "    def sound(self):\n",
        "        print(\"Cow says: Moo\")\n",
        "\n",
        "class Sheep(Animal):\n",
        "    def sound(self):\n",
        "        print(\"Sheep says: Baa\")\n",
        "\n",
        "# Creating objects\n",
        "cow = Cow()\n",
        "sheep = Sheep()\n",
        "\n",
        "cow.sound()\n",
        "sheep.sound()\n"
      ],
      "metadata": {
        "id": "xwn0F-h1R6wl"
      },
      "execution_count": null,
      "outputs": []
    },
    {
      "cell_type": "code",
      "source": [
        "#17. Create a class Book with attributes title, author, and year_published. Add a method get_book_info() that returns a formatted string with the book's details.\n",
        "class Book:\n",
        "    def __init__(self, title, author, year_published):\n",
        "        self.title = title\n",
        "        self.author = author\n",
        "        self.year_published = year_published\n",
        "\n",
        "    def get_book_info(self):\n",
        "        return f\"'{self.title}' by {self.author}, published in {self.year_published}\"\n",
        "\n",
        "# Creating object\n",
        "book = Book(\"The Alchemist\", \"Paulo Coelho\", 1988)\n",
        "print(book.get_book_info())\n"
      ],
      "metadata": {
        "id": "qpE54mBKSOrD"
      },
      "execution_count": null,
      "outputs": []
    },
    {
      "cell_type": "code",
      "source": [
        "#18. Create a class House with attributes address and price. Create a derived class Mansion that adds an attribute number_of_rooms.\n",
        "class House:\n",
        "    def __init__(self, address, price):\n",
        "        self.address = address\n",
        "        self.price = price\n",
        "\n",
        "class Mansion(House):\n",
        "    def __init__(self, address, price, number_of_rooms):\n",
        "        super().__init__(address, price)\n",
        "        self.number_of_rooms = number_of_rooms\n",
        "\n",
        "# Creating object\n",
        "mansion = Mansion(\"123 Luxury St\", 50000000, 10)\n",
        "print(f\"Address: {mansion.address}, Price: {mansion.price}, Rooms: {mansion.number_of_rooms}\")\n"
      ],
      "metadata": {
        "id": "LP9Rt0lNSeYn"
      },
      "execution_count": null,
      "outputs": []
    },
    {
      "cell_type": "markdown",
      "source": [],
      "metadata": {
        "id": "MS5TPOE8_5Av"
      }
    }
  ]
}